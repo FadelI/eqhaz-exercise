{
 "cells": [
  {
   "cell_type": "markdown",
   "id": "877f8457",
   "metadata": {},
   "source": [
    "## Exercise-1: Ring of Fire\n",
    "\n",
    "In this exercise, we will download the USGS earthquake catalogue for events larger than 6 from 1900 to early 2025. We will plot the events on a map of the globe to see the ring of fire and the concentration of earthquakes along the plate boundaries.\n",
    "\n",
    "Note: the downloaded catalogue covers events up to early 2025.\n",
    "\n",
    "First, we will import the required libraries."
   ]
  },
  {
   "cell_type": "code",
   "execution_count": null,
   "id": "0b3281e2",
   "metadata": {},
   "outputs": [],
   "source": [
    "# 1) Install dependencies if missing\n",
    "import sys, subprocess, importlib\n",
    "\n",
    "def ensure(pkg, import_name=None):\n",
    "    name = import_name or pkg\n",
    "    try:\n",
    "        importlib.import_module(name)\n",
    "        print(f\"[ok] {pkg} already installed\")\n",
    "    except Exception:\n",
    "        print(f\"[info] Installing {pkg} ...\")\n",
    "        subprocess.check_call([sys.executable, \"-m\", \"pip\", \"install\", pkg])\n",
    "        importlib.import_module(name)\n",
    "        print(f\"[ok] {pkg} installed\")\n",
    "\n",
    "\n",
    "pkgs = [\"os\", \"re\", \"requests\", \"zipfile\", \"geopandas\",\n",
    "        \"matplotlib\", \"shapely\", \"cartopy\", \"obspy\", \n",
    "        \"folium\", \"osmnx\", \"numpy\", \"pandas\"]\n",
    "\n",
    "for pkg in pkgs:\n",
    "    ensure(pkg)"
   ]
  },
  {
   "cell_type": "code",
   "execution_count": null,
   "id": "31434aa9",
   "metadata": {},
   "outputs": [],
   "source": [
    "import os\n",
    "import re\n",
    "import requests\n",
    "import zipfile\n",
    "import geopandas as gpd\n",
    "import matplotlib.pyplot as plt\n",
    "from shapely.geometry import box    \n",
    "from obspy import UTCDateTime\n",
    "from obspy.clients.fdsn import Client\n",
    "from obspy.geodetics import gps2dist_azimuth\n",
    "from obspy import read_events\n",
    "import geopandas as gpd\n",
    "import matplotlib.pyplot as plt\n",
    "import cartopy.crs as ccrs\n",
    "import cartopy.feature as cfeature\n"
   ]
  },
  {
   "cell_type": "markdown",
   "id": "f50e4e81",
   "metadata": {},
   "source": [
    "We will now define the parameters used to download the USGS catalogue. The two most important parameters are the start and end data and the maximum magnitude.\n",
    "\n",
    "Please note that reducing the magnitude threshold could lead to extensive catalogues, as for each unit increase in magnitude, the number of earthquakes decreases by about a factor of 10, approximately."
   ]
  },
  {
   "cell_type": "code",
   "execution_count": null,
   "id": "cd193a06",
   "metadata": {},
   "outputs": [],
   "source": [
    "STARTTIME = UTCDateTime(\"1900-01-01\")   \n",
    "ENDTIME = UTCDateTime(\"2025-01-01\")\n",
    "\n",
    "# The catalogue should be for global events\n",
    "CATALOG_CLIENT = Client(\"USGS\")\n",
    "MIN_MAG = 6.0  # minimum magnitude to query\n",
    "\n",
    "# Request the catalogue using obspy and then save it to a file\n",
    "CATALOG_CLIENT.get_events(starttime=STARTTIME, endtime=ENDTIME, minmagnitude=MIN_MAG,\n",
    "                                filename = \"usgs_eq_catalog_global.xml\")"
   ]
  },
  {
   "cell_type": "markdown",
   "id": "b3fba5c4",
   "metadata": {},
   "source": [
    "Now that we have downloaded the catalogue, we will read it first and check the number of events. Then we will remove events without depth or magnitude information."
   ]
  },
  {
   "cell_type": "code",
   "execution_count": null,
   "id": "7d915152",
   "metadata": {},
   "outputs": [],
   "source": [
    "# The catalogue is saved as an xml file in the current directory\n",
    "cat = read_events(\"usgs_eq_catalog_global.xml\")\n",
    "\n",
    "# Print number of events in the catalogue\n",
    "print(f\"Number of events in the catalogue: {len(cat)}\")\n",
    "\n",
    "# Remove events with missing depth or magnitude\n",
    "cat = [event for event in cat if event.origins[0].depth is not \n",
    "       None and event.magnitudes[0].mag is not None]\n",
    "print(f\"Number of events with depth and magnitude information: {len(cat)}\")"
   ]
  },
  {
   "cell_type": "markdown",
   "id": "9283337a",
   "metadata": {},
   "source": [
    "Now we will plot the earthquake catalogue centered at the location of the ring of fire to see the earthquakes' distribution at the plate boundaries. The earthquakes will be colored by depth to show the deep-seated earthquakes associated with the subduction zones specifically."
   ]
  },
  {
   "cell_type": "code",
   "execution_count": null,
   "id": "f1d0a130",
   "metadata": {},
   "outputs": [],
   "source": [
    "# Create Cartopy map\n",
    "fig = plt.figure(figsize=(15, 10))\n",
    "ax = fig.add_subplot(1, 1, 1, projection=ccrs.Robinson(central_longitude=180))\n",
    "\n",
    "# Add features to the map\n",
    "ax.coastlines()\n",
    "ax.stock_img()\n",
    "ax.add_feature(cfeature.BORDERS, linestyle=':')\n",
    "# ax.add_feature(cfeature.LAND, facecolor='lightgray')\n",
    "# ax.add_feature(cfeature.OCEAN, facecolor='aqua')\n",
    "\n",
    "# Plot earthquake events colored by depth and sized by magnitude\n",
    "\n",
    "lons = [event.origins[0].longitude for event in cat]\n",
    "lats = [event.origins[0].latitude for event in cat]\n",
    "depths = [event.origins[0].depth for event in cat]  # in meters\n",
    "depths = [float(depth)/1000.0 for depth in depths]  # convert to km    \n",
    "mags = [event.magnitudes[0].mag for event in cat]\n",
    "sc = ax.scatter(lons, lats, c=depths, s=[(mag**2) for mag in mags], \n",
    "                cmap='autumn', alpha=0.7, transform=ccrs.PlateCarree())\n",
    "\n",
    "plt.colorbar(sc, label='Depth (km)', orientation='horizontal', pad=0.02, aspect=30, shrink=0.5)\n",
    "plt.xlabel(\"Longitude\")\n",
    "plt.ylabel(\"Latitude\")\n",
    "\n",
    "plt.title(\"Global Earthquake Catalogue (M>=6.5) Centered at (0, 180)\")\n",
    "plt.show()"
   ]
  },
  {
   "cell_type": "markdown",
   "id": "f5b2b99a",
   "metadata": {},
   "source": [
    "Now we will explore the relation between the earthqukes magnitude and depths and their frequency of occurence."
   ]
  },
  {
   "cell_type": "code",
   "execution_count": null,
   "id": "2bb1a1bd",
   "metadata": {},
   "outputs": [],
   "source": [
    "# %% Make a histgram of the earthquake magnitudes in the catalogue\n",
    "# and their frequencies. Use magnitude bin of 0.1\n",
    "import numpy as np\n",
    "mags = [event.magnitudes[0].mag for event in cat]\n",
    "plt.figure(figsize=(10, 6))\n",
    "plt.hist(mags, bins=np.arange(MIN_MAG, max(mags)+0.1, 0.1), edgecolor='black', alpha=0.7)\n",
    "plt.xlabel(\"Magnitude\")     \n",
    "plt.ylabel(\"Frequency\")\n",
    "plt.title(\"Histogram of Earthquake Magnitudes (M>=6.0) Frequencies\")\n",
    "plt.grid()\n",
    "plt.show()"
   ]
  },
  {
   "cell_type": "code",
   "execution_count": null,
   "id": "4f6bcd9a",
   "metadata": {},
   "outputs": [],
   "source": [
    "# %% Make a histogram of the earthquake depths in the catalogue\n",
    "# and their frequencies. Use depth bin of 10 km\n",
    "depths = [event.origins[0].depth for event in cat]  # in       \n",
    "depths = [float(depth)/1000.0 for depth in depths]  # convert to km\n",
    "plt.figure(figsize=(10, 6))\n",
    "plt.hist(depths, bins=np.arange(0, max(depths)+10, 10), edgecolor='black', alpha=0.7)\n",
    "plt.xlabel(\"Depth (km)\")\n",
    "plt.ylabel(\"Frequency\")\n",
    "plt.title(\"Histogram of Earthquake Depths (M>=6.0)\")\n",
    "plt.grid()\n",
    "plt.show()"
   ]
  },
  {
   "cell_type": "markdown",
   "id": "66100023",
   "metadata": {},
   "source": [
    "Do you have any general observations about the histograms? Can you link them to general geological or tectonic common knwoledge?"
   ]
  },
  {
   "cell_type": "markdown",
   "id": "5787b5ac",
   "metadata": {},
   "source": [
    "# Extra tasks\n",
    "Try to change the search criteria to match your country. Search for all earthquakes larger than 4 or 3.5 and plot the catalogue.\n",
    "* Is your country near the Ring of Fire?\n",
    "* What is the strongest earthquake ever observed there?\n",
    "* Is it related to a specific geologic or tectonic feature?\n",
    "* Do you know the name of the fault associated with the strongest earthquake?\n",
    "* What is the relation between the earthquake magnitudes, depths, and their frequency of occurrence?\n",
    "* Can you link these relations to known geological or tectonic terrains?"
   ]
  }
 ],
 "metadata": {
  "kernelspec": {
   "display_name": "seis",
   "language": "python",
   "name": "python3"
  },
  "language_info": {
   "codemirror_mode": {
    "name": "ipython",
    "version": 3
   },
   "file_extension": ".py",
   "mimetype": "text/x-python",
   "name": "python",
   "nbconvert_exporter": "python",
   "pygments_lexer": "ipython3",
   "version": "3.13.3"
  }
 },
 "nbformat": 4,
 "nbformat_minor": 5
}
