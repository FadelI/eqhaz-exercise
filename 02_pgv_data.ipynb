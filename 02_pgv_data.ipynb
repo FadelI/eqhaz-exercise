{
 "cells": [
  {
   "cell_type": "code",
   "execution_count": null,
   "id": "40ec83bb",
   "metadata": {},
   "outputs": [],
   "source": [
    "# 1) Install dependencies if missing\n",
    "import sys, subprocess, importlib\n",
    "\n",
    "def ensure(pkg, import_name=None):\n",
    "    name = import_name or pkg\n",
    "    try:\n",
    "        importlib.import_module(name)\n",
    "        print(f\"[ok] {pkg} already installed\")\n",
    "    except Exception:\n",
    "        print(f\"[info] Installing {pkg} ...\")\n",
    "        subprocess.check_call([sys.executable, \"-m\", \"pip\", \"install\", pkg])\n",
    "        importlib.import_module(name)\n",
    "        print(f\"[ok] {pkg} installed\")\n",
    "\n",
    "\n",
    "pkgs = [\"os\", \"re\", \"requests\", \"zipfile\", \"geopandas\",\n",
    "        \"matplotlib\", \"shapely\", \"cartopy\", \"obspy\", \n",
    "        \"folium\", \"osmnx\", \"numpy\", \"pandas\"]\n",
    "\n",
    "for pkg in pkgs:\n",
    "    ensure(pkg)"
   ]
  },
  {
   "cell_type": "markdown",
   "id": "266d4061",
   "metadata": {},
   "source": [
    "## Exercise 2: PGV from Seismological Data\n",
    "\n",
    "In this exercise, we will analyze seismic data from a significant earthquake event near Japan using Python and ObsPy.\n",
    "\n",
    "The workflow includes querying earthquake events, retrieving waveform data from a seismic station, processing the raw signals, and calculating Peak Ground Acceleration (PGA) for different sensor components.\n",
    "\n",
    "Visualization tools such as Folium and Matplotlib will be used to map event locations and inspect waveform characteristics. This notebook demonstrates the data commonly used to analyze and derive information about seismic hazards and risks.\n",
    "\n",
    "To begin, we will install the required packages and check their versions."
   ]
  },
  {
   "cell_type": "code",
   "execution_count": null,
   "id": "fa5dc4fc",
   "metadata": {},
   "outputs": [],
   "source": [
    "#%% Import required libraries\n",
    "from obspy import UTCDateTime, Stream\n",
    "from obspy.clients.fdsn import Client\n",
    "from obspy.geodetics import locations2degrees\n",
    "from obspy.signal.filter import bandpass\n",
    "import numpy as np\n",
    "import matplotlib.pyplot as plt\n",
    "from IPython.display import display, HTML\n",
    "\n",
    "# For a simple map (optional, nice in Colab). Comment out if not wanted.\n",
    "try:\n",
    "    import folium\n",
    "    HAVE_FOLIUM = True\n",
    "except Exception:\n",
    "    HAVE_FOLIUM = False\n",
    "\n",
    "\n",
    "print(\"ObsPy and friends imported. Version checks:\")\n",
    "import obspy, sys\n",
    "print(\"  obspy:\", obspy.__version__)\n",
    "print(\"  python:\", sys.version.split()[0])\n",
    "print(\"Folium available:\", HAVE_FOLIUM)"
   ]
  },
  {
   "cell_type": "markdown",
   "id": "6b014264",
   "metadata": {},
   "source": [
    "# Get the earthqaukes catalogue for Japan\n",
    "\n",
    "In the next step, we will query the USGS earthquake catalogue for events in the Japan region over the past five years. We will filter for significant earthquakes (magnitude ≥ 6) and select the largest event for further analysis. This catalogue will provide the event information needed for waveform retrieval and ground motion calculations."
   ]
  },
  {
   "cell_type": "code",
   "execution_count": null,
   "id": "5ad0c329",
   "metadata": {},
   "outputs": [],
   "source": [
    "# FDSN clients: USGS for events, IRIS for waveforms/responses (IU network is served by IRIS)\n",
    "client_evt = Client(\"USGS\")\n",
    "client_wf = Client(\"IRIS\")\n",
    "\n",
    "# Time window: last 5 years\n",
    "t_end = UTCDateTime()                 # \"now\"\n",
    "t_start = t_end - 5 * 365 * 24 * 3600 # ~5 years\n",
    "\n",
    "# Japan-ish box\n",
    "minlat, maxlat = 24.0, 46.0\n",
    "minlon, maxlon = 122.0, 153.0\n",
    "\n",
    "# Query events (raise magnitude if you get too many)\n",
    "cat = client_evt.get_events(\n",
    "    starttime=t_start, endtime=t_end,\n",
    "    minlatitude=minlat, maxlatitude=maxlat,\n",
    "    minlongitude=minlon, maxlongitude=maxlon,\n",
    "    minmagnitude=6, orderby=\"magnitude\"\n",
    ")\n",
    "\n",
    "print(f\"Found {len(cat)} event(s).\")\n",
    "\n",
    "# Quick map of events\n",
    "# cat.plot(projection=\"local\", continent_fill_color=\"lightgray\",\n",
    "#          water_fill_color=\"lightblue\", resolution=\"h\", color='depth',\n",
    "#          title=\"Event epicenters colored by depth\")\n",
    "\n",
    "max_mag = None\n",
    "max_mag_ev = None\n",
    "for ev in cat:\n",
    "    mag = ev.preferred_magnitude()\n",
    "    if mag and (max_mag is None or mag.mag > max_mag):\n",
    "        max_mag = mag.mag\n",
    "        max_mag_ev = ev\n",
    "\n",
    "origin = max_mag_ev.preferred_origin() or max_mag_ev.origins[0]\n",
    "magnitude = max_mag_ev.preferred_magnitude() or max_mag_ev.magnitudes[0]\n",
    "\n",
    "ev_time = origin.time\n",
    "ev_lat, ev_lon, ev_depth_km = origin.latitude, origin.longitude, (origin.depth or 0)/1000.0\n",
    "ev_mag = magnitude.mag\n",
    "ev_mag_type = magnitude.magnitude_type\n",
    "\n",
    "print(\"\\nChosen event:\")\n",
    "print(f\"  Time (UTC): {ev_time}\")\n",
    "print(f\"  Location  : lat {ev_lat:.3f}, lon {ev_lon:.3f}, depth {ev_depth_km:.1f} km\")\n",
    "print(f\"  Magnitude : {ev_mag:.1f} {ev_mag_type}\")"
   ]
  },
  {
   "cell_type": "markdown",
   "id": "f1071eac",
   "metadata": {},
   "source": [
    "# Get the station data\n",
    "\n",
    "In this step, we select a seismic station near the earthquake epicenter to retrieve waveform data. We use the IRIS FDSN client to request station metadata and waveform recordings for the IU.MAJO station, covering a time window around the event. The station's coordinates are extracted for mapping and distance calculations. This data will be used to analyze ground motion and compute peak ground acceleration (PGA) in subsequent steps."
   ]
  },
  {
   "cell_type": "code",
   "execution_count": null,
   "id": "6c5db006",
   "metadata": {},
   "outputs": [],
   "source": [
    "net, sta = \"IU\", \"MAJO\"\n",
    "loc = \"*\"       # accept any location code (e.g., 00 or 10)\n",
    "cha = \"*\"     # broadband, 20 sps typically; change to \"HH?\" if BH not available\n",
    "\n",
    "# Time window around the event (adjust if needed)\n",
    "t1 = ev_time - 60\n",
    "t2 = ev_time + 600\n",
    "\n",
    "print(f\"Requesting stations and responses for {net}.{sta} {cha} {t1} → {t2}\")\n",
    "inv = client_wf.get_stations(network=net, station=sta, location=loc, channel=cha,\n",
    "                             starttime=t1, endtime=t2, level=\"response\")\n",
    "print(inv)\n",
    "\n",
    "print(f\"\\nRequesting waveforms for {net}.{sta}.{loc}.{cha}  {t1} → {t2}\")\n",
    "st_raw = client_wf.get_waveforms(network=net, station=sta, location=loc, channel=cha,\n",
    "                                 starttime=t1, endtime=t2, attach_response=False)\n",
    "st_raw.sort()\n",
    "st_raw.merge(method=1, fill_value=\"interpolate\")\n",
    "\n",
    "# Get station lat/lon from inventory\n",
    "net0 = inv.networks[0]\n",
    "sta0 = net0.stations[0]\n",
    "sta_lat, sta_lon = sta0.latitude, sta0.longitude\n",
    "print(f\"Station coordinates: lat {sta_lat:.3f}, lon {sta_lon:.3f}\")"
   ]
  },
  {
   "cell_type": "markdown",
   "id": "65cf1777",
   "metadata": {},
   "source": [
    "# Visualizing Earthquake and Station Locations\n",
    "\n",
    "In the next step, we will create an interactive map using Folium to visualize the locations of the earthquake epicenter, the selected seismic station, and all catalogued events in the Japan region. This map provides spatial context for the seismic analysis, helping us understand the proximity of the station to the event and the distribution of recent significant earthquakes."
   ]
  },
  {
   "cell_type": "code",
   "execution_count": null,
   "id": "9b73bfec",
   "metadata": {},
   "outputs": [],
   "source": [
    "m = folium.Map(location=[(minlat+maxlat)/2, (minlon+maxlon)/2], zoom_start=4, tiles=\"CartoDB positron\")\n",
    "\n",
    "# Plot all events as blue markers\n",
    "for ev in cat:\n",
    "    o = ev.preferred_origin() or ev.origins[0]\n",
    "    m_ev = ev.preferred_magnitude() or ev.magnitudes[0]\n",
    "    folium.CircleMarker([o.latitude, o.longitude], radius=3, color=\"blue\",\n",
    "                        popup=f\"M{m_ev.mag:.1f} {m_ev.magnitude_type}\\n{o.time.isoformat()}\",\n",
    "                        fill=True, fill_opacity=0.7).add_to(m)\n",
    "\n",
    "folium.Rectangle(bounds=[(minlat,minlon),(maxlat,maxlon)], color=\"blue\", fill=False).add_to(m)\n",
    "folium.Marker([ev_lat, ev_lon], popup=f\"M{ev_mag:.1f} {ev_mag_type}\\n{ev_time.isoformat()}\",\n",
    "                icon=folium.Icon(color=\"red\")).add_to(m)\n",
    "folium.Marker([sta_lat, sta_lon], popup=f\"{net}.{sta}\",\n",
    "                icon=folium.Icon(color=\"green\", icon=\"info-sign\")).add_to(m)\n",
    "\n",
    "m"
   ]
  },
  {
   "cell_type": "markdown",
   "id": "49ebf9bb",
   "metadata": {},
   "source": [
    "# Calculating Epicentral Distance\n",
    "\n",
    "In this step, we calculate the epicentral distance between the selected earthquake event and the seismic station. The distance is computed in degrees using the geographic coordinates of both locations. This value is important for understanding the relationship between ground motion measurements and the proximity to the earthquake source, which is a key factor in seismic hazard analysis."
   ]
  },
  {
   "cell_type": "code",
   "execution_count": null,
   "id": "2882a59d",
   "metadata": {},
   "outputs": [],
   "source": [
    "# Print distances (event to station)\n",
    "# Use the first channel's station coords from inventory\n",
    "net0 = inv.networks[0]\n",
    "sta0 = net0.stations[0]\n",
    "dist_deg = locations2degrees(ev_lat, ev_lon, sta0.latitude, sta0.longitude)\n",
    "print(f\"Epicentral distance to {net}.{sta}: {dist_deg:.2f}°  (~{dist_deg*111:.0f} km)\")"
   ]
  },
  {
   "cell_type": "markdown",
   "id": "359fad69",
   "metadata": {},
   "source": [
    "## Processing and Analyzing Seismic Waveforms from Seismometers (BH*)\n",
    "\n",
    "In the following steps, we process the raw waveform data from the selected seismic station to prepare it for ground motion analysis. This involves selecting the appropriate seismometer channels, applying detrending and tapering to remove baseline offsets and edge effects, and removing the instrument response to obtain acceleration in physical units (m/s²). The processed traces are then rotated to standard ZNE (vertical, north, east) components for consistent analysis. Visualizing these processed waveforms allows us to inspect the quality and characteristics of the seismic signals before calculating peak ground acceleration (PGA)."
   ]
  },
  {
   "cell_type": "code",
   "execution_count": null,
   "id": "4540f32d",
   "metadata": {},
   "outputs": [],
   "source": [
    "#%% Select seismometer BH* and process it\n",
    "# Select BH* channels (broadband seismometer)\n",
    "st_sei = st_raw.copy().select(channel = \"BH*\", location=\"00\")\n",
    "st_sei.plot(size=(800, 300 * len(st_sei)), title=\"Raw BH* traces\")\n",
    "\n",
    "# Detrend / taper\n",
    "st_sei.detrend(\"demean\")\n",
    "st_sei.detrend(\"linear\")\n",
    "st_sei.taper(max_percentage=0.02, type=\"hann\")\n",
    "\n",
    "# A conservative pre-filter for deconvolution (in Hz):\n",
    "# (low-cut corner1, low-cut corner2, high-cut corner1, high-cut corner2)\n",
    "# Choose within instrument bandwidth. Adjust if traces look noisy or clipped.\n",
    "nyquist = min(tr.stats.sampling_rate for tr in st_sei) / 2.0\n",
    "high2 = min(25.0, nyquist * 0.95)\n",
    "pre_filt = (0.05, 0.1, 20.0, high2)\n",
    "\n",
    "print(\"Using pre_filt =\", pre_filt)\n",
    "\n",
    "# Remove instrument response to get acceleration in m/s^2\n",
    "st_sei.remove_response(inventory=inv, output=\"ACC\", pre_filt=pre_filt, \n",
    "                       water_level=60)\n",
    "\n",
    "# Rotate to ZNE because we have 1/2 components\n",
    "st_sei.rotate(method='->ZNE', inventory=inv)\n",
    "print(st_sei)\n",
    "\n",
    "st_sei.plot(size=(800, 300 * len(st_sei)), \n",
    "            title=\"Processed velocity (m/s)\")"
   ]
  },
  {
   "cell_type": "markdown",
   "id": "370ed327",
   "metadata": {},
   "source": [
    "# Compute PGA from seismometer data\n",
    "\n",
    "In this cell, we compute the Peak Ground Acceleration (PGA) from the processed broadband seismometer traces (BH* components). The code calculates the maximum absolute acceleration for each component (vertical, north, east) and presents the results in both m/s² and as a fraction of gravity (g). Additionally, it computes the horizontal vector PGA by combining the north and east components, providing a measure of the strongest horizontal shaking experienced at the station during the earthquake. This analysis is essential for understanding the intensity of ground motion and its potential impact on structures and infrastructure."
   ]
  },
  {
   "cell_type": "code",
   "execution_count": null,
   "id": "d6e53627",
   "metadata": {},
   "outputs": [],
   "source": [
    "#%% Compute PGA from BH* components\n",
    "def component_tag(tr):\n",
    "    \"\"\"Return a short tag like 'BHZ' from a Trace.\"\"\"\n",
    "    net = tr.stats.network\n",
    "    sta = tr.stats.station\n",
    "    cha = tr.stats.channel\n",
    "    return f\"{net}.{sta}.{cha}\"\n",
    "\n",
    "# Compute per-component PGA (m/s^2)\n",
    "pga_comp = {}\n",
    "for tr in st_sei:\n",
    "    tag = component_tag(tr)\n",
    "    pga_comp[tag] = float(np.max(np.abs(tr.data)))\n",
    "\n",
    "# Compute horizontal vector PGA of the E/N components\n",
    "\n",
    "def pga_horizontal_pair(tr_e, tr_n):\n",
    "    \"\"\"Compute vector PGA from two horizontal traces.\"\"\"\n",
    "    n = min(len(tr_e.data), len(tr_n.data))\n",
    "    aH = np.sqrt(tr_e.data[:n]**2 + tr_n.data[:n]**2)\n",
    "    return float(np.max(np.abs(aH)))\n",
    "\n",
    "tr_e = st_sei.select(channel=\"BHE\")[0]\n",
    "tr_n = st_sei.select(channel=\"BHN\")[0]\n",
    "\n",
    "pga_H = pga_horizontal_pair(tr_e, tr_n)\n",
    "pair_used = (component_tag(tr_e), component_tag(tr_n))\n",
    "\n",
    "# Present results\n",
    "g = 9.80665\n",
    "print(\"PGA per component:\")\n",
    "for k, v in sorted(pga_comp.items()):\n",
    "    print(f\"  {k:>12s}: {v:8.5f} m/s²  ({v/g:7.5f} g)\")\n",
    "\n",
    "if pga_H is not None:\n",
    "    print(f\"\\nHorizontal vector PGA using {pair_used[0]} + {pair_used[1]}:\")\n",
    "    print(f\"  PGA_H: {pga_H:8.5f} m/s²  ({pga_H/g:7.5f} g)\")\n",
    "else:\n",
    "    print(\"\\nHorizontal vector PGA: not computed (E/N pair not found).\")"
   ]
  },
  {
   "cell_type": "markdown",
   "id": "48d82efa",
   "metadata": {},
   "source": [
    "## Processing Accelerometer (HN*) Data and Computing PGA\n",
    "\n",
    "In this section, we process the strong-motion accelerometer traces (HN* channels) from the selected seismic station. The workflow mirrors the previous steps for broadband seismometer data: we select the relevant channels, apply detrending and tapering, remove the instrument response to obtain acceleration in physical units, and rotate the traces to standard ZNE components. After processing, we compute the Peak Ground Acceleration (PGA) for each component and the horizontal vector PGA, providing insight into the strongest shaking recorded by the accelerometer during the earthquake. Comparing PGA values from both seismometer and accelerometer data helps assess ground motion characteristics and instrument performance."
   ]
  },
  {
   "cell_type": "code",
   "execution_count": null,
   "id": "d0bae08a",
   "metadata": {},
   "outputs": [],
   "source": [
    "#%% Process HN* traces the same way as before\n",
    "st_hn = st_raw.copy().select(channel=\"HN*\", location=loc) # pick a location code if multiple are present\n",
    "for tr in st_hn:\n",
    "    tr.stats.backup = dict(tr.stats)  # keep a copy of original stats for reference \n",
    "st_hn.detrend(\"demean\")\n",
    "st_hn.detrend(\"linear\")\n",
    "st_hn.taper(max_percentage=0.02, type=\"hann\")\n",
    "\n",
    "# Remove instrument response to get acceleration in m/s^2\n",
    "st_hn.remove_response(inventory=inv, output=\"ACC\", pre_filt=pre_filt, water_level=60)\n",
    "\n",
    "print(st_hn)\n",
    "\n",
    "st_hn.rotate(method='->ZNE', inventory=inv)\n",
    "\n",
    "st_hn.plot(size=(800, 300 * len(st_hn)), title=\"Processed HN* acceleration (m/s²)\")"
   ]
  },
  {
   "cell_type": "markdown",
   "id": "aed3161b",
   "metadata": {},
   "source": [
    "## Compute PGA from Accelerometer Data\n",
    "\n",
    "In this cell, we calculate the Peak Ground Acceleration (PGA) from the processed strong-motion accelerometer traces (HN* components). The code determines the maximum absolute acceleration for each component (vertical, north, east) and presents the results in both m/s² and as a fraction of gravity (g). It also computes the horizontal vector PGA by combining the north and east components, providing a measure of the strongest horizontal shaking recorded by the accelerometer during the earthquake. This analysis is useful for comparing ground motion intensity between broadband seismometer and accelerometer data."
   ]
  },
  {
   "cell_type": "code",
   "execution_count": null,
   "id": "ff9d4a25",
   "metadata": {},
   "outputs": [],
   "source": [
    "#%% Compute PGA from HN* components\n",
    "pga_comp_hn = {}\n",
    "for tr in st_hn:\n",
    "    tag = component_tag(tr)\n",
    "    pga_comp_hn[tag] = float(np.max(np.abs(tr.data)))\n",
    "# Compute horizontal vector PGA if we have E/N (or 1/2) components\n",
    "tr_e = st_hn.select(channel=\"HNE\")[0]\n",
    "tr_n = st_hn.select(channel=\"HNN\")[0]\n",
    "pga_H_hn = pga_horizontal_pair(tr_e, tr_n)\n",
    "pair_used_hn = (component_tag(tr_e), component_tag(tr_n))\n",
    "\n",
    "# Present results\n",
    "# g in m/s^2\n",
    "g = 9.80665\n",
    "print(\"PGA per HN* component:\")\n",
    "for k, v in sorted(pga_comp_hn.items()):\n",
    "    print(f\"  {k:>12s}: {v:8.5f} m/s²  ({v/g:7.5f} g)\")\n",
    "\n",
    "if pga_H_hn is not None:\n",
    "    print(f\"\\nHorizontal vector PGA using {pair_used_hn[0]} + {pair_used_hn[1]}:\")\n",
    "    print(f\"  PGA_H: {pga_H_hn:8.5f} m/s²  ({pga_H_hn/g:7.5f} g)\")\n",
    "else:\n",
    "    print(\"\\nHorizontal vector PGA: not computed (E/N pair not found).\")"
   ]
  },
  {
   "cell_type": "markdown",
   "id": "36a26e4d",
   "metadata": {},
   "source": [
    "# Extra tasks:\n",
    "* Did you observe the difference between PGA from seismometer and accelerometer data?\n",
    "* Why is there a difference?\n",
    "* Can you explain the difference between seismometer and accelerometer measurements?\n",
    "* If you have a site near faults with expected high-magnitude earthquakes, would you install a seismometer nearby?\n",
    "* In the inventory, you will find different location identifiers (e.g., 0, 10, 60) for the seismometer. Calculate PGA for other locations.\n",
    "* Is there a difference between the PGA from different locations? Why?\n"
   ]
  }
 ],
 "metadata": {
  "kernelspec": {
   "display_name": "seis",
   "language": "python",
   "name": "python3"
  },
  "language_info": {
   "codemirror_mode": {
    "name": "ipython",
    "version": 3
   },
   "file_extension": ".py",
   "mimetype": "text/x-python",
   "name": "python",
   "nbconvert_exporter": "python",
   "pygments_lexer": "ipython3",
   "version": "3.13.3"
  }
 },
 "nbformat": 4,
 "nbformat_minor": 5
}
