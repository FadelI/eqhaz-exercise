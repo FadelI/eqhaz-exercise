{
 "cells": [
  {
   "cell_type": "markdown",
   "id": "86050d8f",
   "metadata": {},
   "source": [
    "# Exercise 3: Earthquake Magnitude-Frequency Analysis Near Antananarivo\n",
    "\n",
    "This notebook demonstrates how to analyze the frequency and magnitude of earthquakes near Antananarivo, Madagascar, using real earthquake catalog data. The workflow includes:\n",
    "\n",
    "- **Data Acquisition:** Earthquake events are fetched from the USGS catalog for a region surrounding Antananarivo, defined by latitude and longitude bounds, and filtered by minimum magnitude.\n",
    "- **Data Cleaning:** Events with missing depth or magnitude information are removed to ensure data quality.\n",
    "- **Distance Calculation:** The haversine formula is used to compute the distance from each earthquake to Antananarivo.\n",
    "- **Magnitude Binning:** Earthquake magnitudes are grouped into bins (0.5 increments), and the number of events in each bin is counted.\n",
    "- **Magnitude-Frequency Distribution:** The cumulative number of events above each magnitude threshold is calculated and visualized, showing the typical decrease in frequency with increasing magnitude.\n",
    "- **Gutenberg-Richter Law Fitting:** The Gutenberg-Richter relation (`log10(N) = a - b*M`) is fitted to the magnitude-frequency data, providing estimates for the parameters `a` and `b` that characterize the seismicity of the region.\n",
    "- **Data Filtering:** The analysis is repeated for events with magnitude ≥ 4.0 to focus on more significant earthquakes.\n",
    "\n",
    "This exercise illustrates key concepts in seismology and statistical analysis, including catalog querying, data wrangling, binning, cumulative distributions, and linear regression fitting for empirical laws. The workflow is modular and can be adapted to other regions or magnitude thresholds.\n",
    "\n",
    "First, we need to install the required packages."
   ]
  },
  {
   "cell_type": "code",
   "execution_count": null,
   "id": "ec4112e8",
   "metadata": {},
   "outputs": [],
   "source": [
    "# 1) Install dependencies if missing\n",
    "import sys, subprocess, importlib\n",
    "\n",
    "def ensure(pkg, import_name=None):\n",
    "    name = import_name or pkg\n",
    "    try:\n",
    "        importlib.import_module(name)\n",
    "        print(f\"[ok] {pkg} already installed\")\n",
    "    except Exception:\n",
    "        print(f\"[info] Installing {pkg} ...\")\n",
    "        subprocess.check_call([sys.executable, \"-m\", \"pip\", \"install\", pkg])\n",
    "        importlib.import_module(name)\n",
    "        print(f\"[ok] {pkg} installed\")\n",
    "\n",
    "\n",
    "pkgs = [\"os\", \"re\", \"requests\", \"zipfile\", \"geopandas\",\n",
    "        \"matplotlib\", \"shapely\", \"cartopy\", \"obspy\", \n",
    "        \"folium\", \"osmnx\", \"numpy\", \"pandas\"]\n",
    "\n",
    "for pkg in pkgs:\n",
    "    ensure(pkg)"
   ]
  },
  {
   "cell_type": "markdown",
   "id": "4a77d15a",
   "metadata": {},
   "source": [
    "# Import required libraries\n",
    "\n",
    "In the next cell, we will import the required packages and define the parameters and constants needed for the exercise."
   ]
  },
  {
   "cell_type": "code",
   "execution_count": null,
   "id": "44efc9ff",
   "metadata": {},
   "outputs": [],
   "source": [
    "#%% Imports and constants\n",
    "import numpy as np\n",
    "import matplotlib.pyplot as plt\n",
    "from math import radians, sin, cos, asin, sqrt, log10, log, exp\n",
    "from obspy.clients.fdsn import Client\n",
    "from obspy import UTCDateTime\n",
    "import geopandas as gpd\n",
    "import requests, zipfile, io\n",
    "from obspy.geodetics import gps2dist_azimuth\n",
    "import pandas as pd\n",
    "\n",
    "# Constants\n",
    "R_EARTH_KM = 6371.0  # Earth radius in kilometers\n",
    "\n",
    "# City of interest\n",
    "CITY_NAME = \"Antananarivo\"\n",
    "CITY_LAT = -18.9\n",
    "CITY_LON = 47.5\n",
    "\n",
    "# Earthquake catalog search parameters\n",
    "MIN_LAT = -26.0\n",
    "MAX_LAT = -11.0\n",
    "MIN_LON = 42.0\n",
    "MAX_LON = 51.0\n",
    "START_DATE = UTCDateTime(1900, 1, 1)\n",
    "END_DATE = UTCDateTime.now()\n",
    "MIN_MAG = 3.0"
   ]
  },
  {
   "cell_type": "markdown",
   "id": "88cb13a3",
   "metadata": {},
   "source": [
    "# Fetching and Cleaning Earthquake Catalog Data\n",
    "\n",
    "In this step, we query the USGS earthquake catalog for events within the specified latitude and longitude bounds around Antananarivo, Madagascar, and within the defined time and magnitude range. We then filter out events that lack depth or magnitude information to ensure the dataset is suitable for further analysis. The resulting catalog contains only earthquakes with complete and reliable data."
   ]
  },
  {
   "cell_type": "code",
   "execution_count": null,
   "id": "5e8f8aa0",
   "metadata": {},
   "outputs": [],
   "source": [
    "#%% Fetch earthquake catalog using ObsPy\n",
    "client = Client(\"USGS\")\n",
    "catalog = client.get_events(starttime=START_DATE, endtime=END_DATE,\n",
    "                            minlatitude=MIN_LAT, maxlatitude=MAX_LAT,\n",
    "                            minlongitude=MIN_LON, maxlongitude=MAX_LON,\n",
    "                            minmagnitude=MIN_MAG)\n",
    "print(f\"Fetched {catalog.count()} earthquake events from the catalog\")\n",
    "\n",
    "# Remove events with missing depth or magnitude\n",
    "catalog = [event for event in catalog if event.origins and event.magnitudes and\n",
    "           event.origins[0].depth is not None and event.magnitudes[0].mag is not None]\n",
    "print(f\"Number of events with depth and magnitude information: {len(catalog)}\")"
   ]
  },
  {
   "cell_type": "markdown",
   "id": "cfd39ad5",
   "metadata": {},
   "source": [
    "# Calculating Distances and Preparing Event Data\n",
    "\n",
    "In this step, we calculate the distance from each earthquake event to Antananarivo using the haversine formula, which accounts for the curvature of the Earth. We then extract relevant event attributes—latitude, longitude, depth, magnitude, and computed distance—and organize them into a GeoDataFrame for spatial analysis. This structured dataset enables further statistical and geographic exploration of earthquake patterns near Antananarivo."
   ]
  },
  {
   "cell_type": "code",
   "execution_count": null,
   "id": "2320d93b",
   "metadata": {},
   "outputs": [],
   "source": [
    "#%% Calculate distances from city to each event\n",
    "# Function to calculate haversine distance between two lat/lon points\n",
    "def haversine(lat1, lon1, lat2, lon2):\n",
    "    # Convert decimal degrees to radians\n",
    "    lat1, lon1, lat2, lon2 = map(radians, [lat1, lon1, lat2, lon2])\n",
    "    # Haversine formula\n",
    "    dlon = lon2 - lon1 \n",
    "    dlat = lat2 - lat1 \n",
    "    a = sin(dlat/2)**2 + cos(lat1) * cos(lat2) * sin(dlon/2)**2\n",
    "    c = 2 * asin(sqrt(a)) \n",
    "    km = R_EARTH_KM * c\n",
    "    return km\n",
    "\n",
    "#%% Extract event data (latitude, longitude, depth, magnitude, distance)\n",
    "# into geopandas dataframe\n",
    "event_data = []\n",
    "for event in catalog:\n",
    "    origin = event.origins[0]\n",
    "    magnitude = event.magnitudes[0].mag if event.magnitudes else None\n",
    "    if origin and magnitude is not None:\n",
    "        event_data.append({\n",
    "            \"latitude\": origin.latitude,\n",
    "            \"longitude\": origin.longitude,\n",
    "            \"depth_km\": origin.depth / 1000.0,  # convert to km\n",
    "            \"magnitude\": magnitude,\n",
    "            \"distance\": haversine(CITY_LAT, CITY_LON, origin.latitude, origin.longitude)\n",
    "        })\n",
    "\n",
    "events_gdf = gpd.GeoDataFrame(event_data, geometry=gpd.points_from_xy(\n",
    "    [e[\"longitude\"] for e in event_data],\n",
    "    [e[\"latitude\"] for e in event_data]\n",
    "))\n",
    "\n",
    "print(f\"Prepared GeoDataFrame with {len(events_gdf)} events\")"
   ]
  },
  {
   "cell_type": "markdown",
   "id": "002351fa",
   "metadata": {},
   "source": [
    "# Magnitude Binning and Frequency Analysis\n",
    "\n",
    "In this section, earthquake events are grouped into magnitude bins with 0.5 increments. The number of events in each bin is counted, and a cumulative count is calculated to show how many earthquakes have magnitudes greater than or equal to each bin threshold. This cumulative distribution is a key step in understanding the frequency of larger earthquakes in the region. The results are visualized using a histogram and a magnitude-frequency scatter plot, which reveal the typical decrease in event frequency with increasing magnitude."
   ]
  },
  {
   "cell_type": "code",
   "execution_count": null,
   "id": "a31fa164",
   "metadata": {},
   "outputs": [],
   "source": [
    "#%% Classify events by magnitude into bins with 0.5 increments\n",
    "# and get the count of events in each bin\n",
    "\n",
    "bins = np.arange(MIN_MAG, max(events_gdf['magnitude']) + 0.5, 0.5)\n",
    "events_gdf['mag_bin'] = pd.cut(events_gdf['magnitude'], bins)\n",
    "mag_bin_counts = events_gdf['mag_bin'].value_counts().sort_index()\n",
    "mag_bins_centers = bins[:-1] + 0.25  # center of each bin\n",
    "\n",
    "\n",
    "# Make a new data frame for better with the bins, number of events, bin centers,\n",
    "# and cumulative counts from the largest to smallest magnitude\n",
    "mag_bin_df = pd.DataFrame({\n",
    "    'magnitude_bin': mag_bin_counts.index.astype(str),\n",
    "    'event_count': mag_bin_counts.values,\n",
    "    'bin_center': bins[:-1] + 0.25  # center of each bin\n",
    "})\n",
    "cum_counts = mag_bin_df['event_count'][::-1].cumsum()[::-1]\n",
    "mag_bin_df['cumulative_count'] = cum_counts.values\n",
    "\n",
    "# Add a column for log10 of cumulative counts, replacing 0 with NaN to avoid -inf\n",
    "# Calculate log10 of cumulative counts, handling zero counts\n",
    "log_counts = lambda x: log10(x) if x > 0 else np.nan\n",
    "mag_bin_df['log_counts'] = mag_bin_df['cumulative_count'].replace(0, np.nan).apply(log_counts)\n",
    "print(mag_bin_df)\n",
    "\n",
    "# Plot histogram of event counts by magnitude bins\n",
    "plt.figure(figsize=(10, 6))\n",
    "mag_bin_counts.plot(kind='bar', color='skyblue', edgecolor='black')\n",
    "plt.xlabel(\"Magnitude Bins\")\n",
    "plt.ylabel(\"Number of Events\")\n",
    "plt.title(\"Histogram of Earthquake Magnitudes\")\n",
    "plt.grid(axis='y')\n",
    "plt.show()\n",
    "\n",
    "#%% Calculate and plot magnitude-frequency distribution\n",
    "# Plot magnitude-frequency distribution\n",
    "plt.figure(figsize=(10, 6))\n",
    "plt.scatter(mag_bins_centers, cum_counts, color='red')\n",
    "plt.yscale('log')\n",
    "plt.xlabel(\"Magnitude\")\n",
    "plt.ylabel(\"Cumulative Number of Events (log scale)\")\n",
    "plt.title(\"Magnitude-Frequency Distribution\")\n",
    "plt.grid()\n",
    "plt.show()\n"
   ]
  },
  {
   "cell_type": "markdown",
   "id": "0a4662e2",
   "metadata": {},
   "source": [
    "# Fitting the Gutenberg-Richter Law\n",
    "\n",
    "In this step, we fit the Gutenberg-Richter relation to the magnitude-frequency data. The Gutenberg-Richter law describes the relationship between earthquake magnitude and the cumulative number of events, expressed as `log10(N) = a - b*M`, where `N` is the cumulative count and `M` is magnitude. By performing linear regression on the log-transformed cumulative counts versus magnitude bin centers, we estimate the parameters `a` and `b`, which characterize the seismicity of the region. The observed data and the fitted model are visualized together to assess the fit quality."
   ]
  },
  {
   "cell_type": "code",
   "execution_count": null,
   "id": "5727f982",
   "metadata": {},
   "outputs": [],
   "source": [
    "#%% Fit Gutenberg-Richter relation to the magnitude-frequency data\n",
    "# Gutenberg-Richter relation: log10(N) = a - b*M\n",
    "# where N is the cumulative number of events with magnitude >= M\n",
    "# We can fit a linear model to log10(N) vs M to estimate a and b\n",
    "from scipy.stats import linregress\n",
    "\n",
    "log_counts = np.log10(cum_counts)\n",
    "slope, intercept, r_value, p_value, std_err = linregress(mag_bins_centers, log_counts)\n",
    "b_value = -slope\n",
    "a_value = intercept \n",
    "print(f\"Fitted Gutenberg-Richter parameters: a = {a_value:.2f}, b = {b_value:.2f}\")\n",
    "# Plot fitted line\n",
    "plt.figure(figsize=(10, 6))\n",
    "plt.scatter(mag_bins_centers, cum_counts, color='red', label='Observed Data')\n",
    "plt.yscale('log')\n",
    "plt.xlim((MIN_MAG, max(bins)))\n",
    "plt.xlabel(\"Magnitude\")\n",
    "plt.ylabel(\"Cumulative Number of Events (log scale)\")\n",
    "plt.title(\"Magnitude-Frequency Distribution with Gutenberg-Richter Fit\")\n",
    "plt.grid()\n",
    "# Plot fitted line\n",
    "fitted_counts = 10**(a_value - b_value * mag_bins_centers)\n",
    "plt.plot(mag_bins_centers, fitted_counts, color='blue', label='Gutenberg-Richter Fit')\n",
    "plt.legend()\n",
    "plt.show()"
   ]
  },
  {
   "cell_type": "markdown",
   "id": "60c7dbde",
   "metadata": {},
   "source": [
    "## Filtering for Significant Earthquakes (Magnitude ≥ 4.0)\n",
    "\n",
    "We will focus the analysis on a more complete record and impactful seismic events, we filter the earthquake catalog to include only those with magnitude greater than or equal to 4.0. Events with magnitude less than 4.0 are fewer and missing, which does not match the general observation that the number of earthquakes increases as the magnitude decreases. This is mainly related to the lack or limited number of seismological stations in the region. This step reduces the influence of smaller, less significant earthquakes and allows for a clearer examination of the magnitude-frequency relationship among moderate and large events. The filtered dataset is used to recalculate magnitude bins, cumulative counts, and to visualize the updated magnitude-frequency distribution. This targeted approach provides more meaningful insights into the seismic hazard near Antananarivo."
   ]
  },
  {
   "cell_type": "code",
   "execution_count": null,
   "id": "6d32a487",
   "metadata": {},
   "outputs": [],
   "source": [
    "#%% Remove events with magnitude less than 4.0\n",
    "events_gdf = mag_bin_df[mag_bin_df['bin_center'] >= 4.0]\n",
    "print(events_gdf)\n",
    "\n",
    "# Recalculate magnitude bins and cumulative counts\n",
    "# Plot magnitude-frequency distribution\n",
    "plt.figure(figsize=(10, 6))\n",
    "plt.scatter(events_gdf['bin_center'], events_gdf['cumulative_count'], color='red')\n",
    "plt.yscale('log')\n",
    "plt.xlabel(\"Magnitude\")\n",
    "plt.xlim((4.0, max(bins)))\n",
    "plt.ylabel(\"Cumulative Number of Events (log scale)\")\n",
    "plt.title(\"Magnitude-Frequency Distribution\")\n",
    "plt.grid()\n",
    "plt.show()"
   ]
  },
  {
   "cell_type": "markdown",
   "id": "954111ae",
   "metadata": {},
   "source": [
    "# Gutenberg-Richter Law Fit for Significant Earthquakes\n",
    "\n",
    "In this step, we fit the Gutenberg-Richter relation to the filtered magnitude-frequency data (magnitude ≥ 4.0). The linear regression is performed on the log-transformed cumulative event counts versus the magnitude bin centers. The resulting parameters `a` and `b` quantify the seismicity for moderate and large earthquakes near Antananarivo. The plot displays both the observed cumulative counts and the fitted Gutenberg-Richter model, allowing visual assessment of the fit and interpretation of regional earthquake occurrence rates."
   ]
  },
  {
   "cell_type": "code",
   "execution_count": null,
   "id": "18716ef5",
   "metadata": {},
   "outputs": [],
   "source": [
    "# %% Fit Gutenberg-Richter relation to the new magnitude-frequency data\n",
    "# Gutenberg-Richter relation: log10(N) = a - b*M\n",
    "# where N is the cumulative number of events with magnitude >= M\n",
    "# We can fit a linear model to log10(N) vs M to estimate a and b\n",
    "from scipy.stats import linregress\n",
    "\n",
    "slope, intercept, r_value, p_value, std_err = linregress(events_gdf['bin_center'], events_gdf['log_counts'])\n",
    "b_value = -slope\n",
    "a_value = intercept \n",
    "print(f\"Fitted Gutenberg-Richter parameters after cleaning: a = {a_value:.2f}, b = {b_value:.2f}\")\n",
    "# Plot fitted line\n",
    "plt.figure(figsize=(10, 6))\n",
    "plt.scatter(events_gdf['bin_center'], events_gdf['cumulative_count'], color='red', label='Observed Data')\n",
    "plt.yscale('log')\n",
    "plt.xlabel(\"Magnitude\")\n",
    "plt.xlim((4.0, max(bins)))\n",
    "plt.ylabel(\"Cumulative Number of Events (log scale)\")\n",
    "plt.title(\"Magnitude-Frequency Distribution with Gutenberg-Richter Fit\")\n",
    "plt.grid()\n",
    "# Plot fitted line\n",
    "fitted_counts = 10**(a_value - b_value * mag_bins_centers)\n",
    "plt.plot(mag_bins_centers, fitted_counts, color='blue', label='Gutenberg-Richter Fit')\n",
    "plt.legend()\n",
    "plt.show()"
   ]
  },
  {
   "cell_type": "markdown",
   "id": "c705a489",
   "metadata": {},
   "source": [
    "# Extra tasks:\n",
    "* Did you observe variation in the a and b parameters based on the input? Why does this variation occur?\n",
    "* What is the effect of binning? Try redoing the analysis with different bins, e.g., with a 0.2 interval.\n",
    "* Did you observe variation in the a and b estimates?\n",
    "* What does this tell you about the importance of the completeness of earthquake catalogs?\n",
    "* Are you aware of other fitting approaches? Try them. For example, you could use the numpy.polyfit function.\n",
    "* Is there any difference between the a and b estimates using numpy.polyfit and the scipy linregress function used here?\n",
    "* In your opinion, what is more important: the choice of bins or the fitting function?\n"
   ]
  }
 ],
 "metadata": {
  "kernelspec": {
   "display_name": "seis",
   "language": "python",
   "name": "python3"
  },
  "language_info": {
   "codemirror_mode": {
    "name": "ipython",
    "version": 3
   },
   "file_extension": ".py",
   "mimetype": "text/x-python",
   "name": "python",
   "nbconvert_exporter": "python",
   "pygments_lexer": "ipython3",
   "version": "3.13.3"
  }
 },
 "nbformat": 4,
 "nbformat_minor": 5
}
